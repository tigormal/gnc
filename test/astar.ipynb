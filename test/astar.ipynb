{
 "cells": [
  {
   "cell_type": "code",
   "execution_count": 8,
   "metadata": {},
   "outputs": [],
   "source": [
    "from pathfinding.core.diagonal_movement import DiagonalMovement\n",
    "from pathfinding.core.grid import Grid, GridNode\n",
    "from pathfinding.finder.a_star import AStarFinder\n",
    "import logging\n",
    "from PIL.Image import Image, fromarray\n",
    "import PIL.Image\n",
    "from PIL import ImageFilter, ImageOps\n",
    "from typing import Iterable\n",
    "import numpy as np\n",
    "\n",
    "matrix = []\n",
    "_image = PIL.Image.open(\"/Users/igor/Default.map/Occupancy Grid/labyrinth.tif\") #.resize((250, 250))\n",
    "_robotRadius = 0.5 # [m]\n",
    "_imageSizeM = 10\n",
    "_start = (489.0, 27.0)\n",
    "_end = (968.0, 1010.0)\n",
    "finder = AStarFinder(diagonal_movement=DiagonalMovement.always)"
   ]
  },
  {
   "cell_type": "code",
   "execution_count": 9,
   "metadata": {},
   "outputs": [],
   "source": [
    "ratio = _imageSizeM / _image.width\n",
    "start = (_start[0]*ratio, _start[1]*ratio)\n",
    "end = (_end[0]*ratio, _end[1]*ratio)"
   ]
  },
  {
   "cell_type": "code",
   "execution_count": 10,
   "metadata": {},
   "outputs": [
    {
     "name": "stdout",
     "output_type": "stream",
     "text": [
      "radius: 5\n"
     ]
    },
    {
     "data": {
      "image/jpeg": "[encoded data removed]",
      "image/png": "[encoded data removed]",
      "text/plain": [
       "<PIL.Image.Image image mode=1 size=105x105>"
      ]
     },
     "metadata": {},
     "output_type": "display_data"
    }
   ],
   "source": [
    "# 1. Apply Max filter\n",
    "\n",
    "radius = int(_robotRadius * _imageSizeM)\n",
    "print(f\"radius: {radius}\")\n",
    "mf_img = _image.filter(ImageFilter.MinFilter()) #if radius > 0 else _image\n",
    "display(mf_img)"
   ]
  },
  {
   "cell_type": "code",
   "execution_count": 11,
   "metadata": {},
   "outputs": [
    {
     "data": {
      "image/jpeg": "[encoded data removed]",
      "image/png": "[encoded data removed]",
      "text/plain": [
       "<PIL.Image.Image image mode=1 size=105x105>"
      ]
     },
     "metadata": {},
     "output_type": "display_data"
    }
   ],
   "source": [
    "\n",
    "# # 2. Invert image\n",
    "# in_img = ImageOps.invert(mf_img)\n",
    "# display(in_img)\n",
    "\n",
    "# 3. Covert to array\n",
    "matrix = np.array(mf_img)\n",
    "\n",
    "# # 4. Set obstacles to zero\n",
    "# matrix[matrix == 255] = 0\n",
    "display(fromarray(matrix))"
   ]
  },
  {
   "cell_type": "code",
   "execution_count": 12,
   "metadata": {},
   "outputs": [
    {
     "name": "stdout",
     "output_type": "stream",
     "text": [
      "Runs: 1136,\n",
      "Path: [(46, 2), (46, 3), (47, 4), (48, 5), (49, 6), (50, 7), (51, 8), (52, 8), (53, 8), (54, 8), (55, 8), (56, 8), (57, 8), (58, 8), (59, 8), (60, 8), (61, 8), (62, 8), (63, 8), (64, 8), (65, 8), (66, 8), (67, 8), (68, 8), (69, 8), (70, 8), (71, 8), (72, 8), (73, 8), (74, 8), (75, 8), (76, 9), (76, 10), (76, 11), (76, 12), (76, 13), (76, 14), (76, 15), (75, 16), (74, 17), (73, 18), (72, 18), (71, 18), (70, 18), (69, 18), (68, 19), (68, 20), (68, 21), (68, 22), (68, 23), (67, 24), (66, 25), (65, 26), (64, 26), (63, 26), (62, 26), (61, 26), (60, 26), (59, 26), (58, 25), (58, 24), (58, 23), (58, 22), (58, 21), (57, 20), (56, 19), (55, 18), (54, 18), (53, 18), (52, 18), (51, 18), (50, 18), (49, 18), (48, 19), (48, 20), (48, 21), (48, 22), (48, 23), (48, 24), (48, 25), (48, 26), (48, 27), (48, 28), (48, 29), (48, 30), (48, 31), (48, 32), (48, 33), (48, 34), (48, 35), (49, 36), (50, 37), (51, 38), (52, 38), (53, 38), (54, 38), (55, 38), (56, 38), (57, 38), (58, 38), (59, 38), (60, 38), (61, 38), (62, 38), (63, 38), (64, 38), (65, 38), (66, 39), (66, 40), (66, 41), (66, 42), (66, 43), (66, 44), (66, 45), (65, 46), (64, 47), (63, 48), (62, 48), (61, 48), (60, 48), (59, 48), (58, 49), (58, 50), (58, 51), (58, 52), (58, 53), (58, 54), (58, 55), (58, 56), (58, 57), (58, 58), (58, 59), (58, 60), (58, 61), (58, 62), (58, 63), (58, 64), (58, 65), (59, 66), (60, 66), (61, 66), (62, 66), (63, 67), (64, 68), (65, 68), (66, 68), (67, 68), (68, 68), (69, 68), (70, 68), (71, 68), (72, 68), (73, 68), (74, 68), (75, 68), (76, 69), (76, 70), (76, 71), (76, 72), (76, 73), (77, 74), (78, 75), (79, 76), (80, 77), (81, 78), (82, 78), (83, 78), (84, 78), (85, 78), (86, 78), (87, 78), (88, 78), (89, 78), (90, 78), (91, 78), (92, 78), (93, 78), (94, 78), (95, 78), (96, 79), (96, 80), (96, 81), (96, 82), (96, 83), (96, 84), (96, 85), (96, 86), (96, 87), (96, 88), (96, 89), (96, 90), (96, 91), (96, 92), (96, 93), (96, 94), (96, 95), (95, 96), (94, 96), (93, 96), (92, 96)]\n"
     ]
    }
   ],
   "source": [
    "# Run path finder\n",
    "grid  = Grid(matrix=list(matrix))\n",
    "start = grid.node(int(start[0]), int(start[1]))\n",
    "end   = grid.node(int(end[0]), int(end[1]))\n",
    "\n",
    "path: list[GridNode]; result = []\n",
    "path, runs = finder.find_path(start, end, grid)\n",
    "for item in path:\n",
    "    result.append((item.x, item.y))\n",
    "\n",
    "print(f\"Runs: {runs},\\nPath: {result}\")"
   ]
  }
 ],
 "metadata": {
  "language_info": {
   "name": "python"
  }
 },
 "nbformat": 4,
 "nbformat_minor": 2
}
